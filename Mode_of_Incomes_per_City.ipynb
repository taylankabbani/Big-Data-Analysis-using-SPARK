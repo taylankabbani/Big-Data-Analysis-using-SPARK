{
 "cells": [
  {
   "cell_type": "code",
   "execution_count": 1,
   "metadata": {},
   "outputs": [],
   "source": [
    "import csv\n",
    "from time import time\n",
    "import findspark\n",
    "findspark.init()\n",
    "findspark.find()\n",
    "import pyspark\n",
    "findspark.find()\n",
    "from pyspark import SparkContext, SparkConf\n",
    "from pyspark.sql import SparkSession\n",
    "conf = pyspark.SparkConf().setAppName('appName').setMaster('local')\n",
    "sc = pyspark.SparkContext(conf=conf)\n",
    "spark = SparkSession(sc)"
   ]
  },
  {
   "cell_type": "code",
   "execution_count": 2,
   "metadata": {},
   "outputs": [],
   "source": [
    "class MODE():\n",
    "    \n",
    "    # Import data and partition it\n",
    "    def __init__(self, directory):\n",
    "        self.data = sc.textFile(directory).map(lambda x: (int(x.split(\" \"*3)[1]),x.split(\" \"*3)[0])).partitionBy(101) \\\n",
    "                      .persist()\n",
    "        \n",
    "    # Use combiner and reduce to find the mode    \n",
    "    def income_mode(self):\n",
    "        s = self.data.map(lambda x: (x[1],x[0])) \\\n",
    "                     .combineByKey((lambda x: (x,1)),\n",
    "                                   (lambda x,y: (x[0], x[1]+1)),\n",
    "                                   (lambda x,y: x if x[1] > y[1] else (y if x[1] < y[1] else min(x,y))))\n",
    "        return s\n",
    "    \n",
    "    # Save results as CSV \n",
    "    def save_file(self, file_name):\n",
    "        with open(file_name, 'w', newline='') as file:\n",
    "            writer = csv.writer(file)\n",
    "            writer.writerows(self.income_mode().collect())   "
   ]
  },
  {
   "cell_type": "code",
   "execution_count": 3,
   "metadata": {},
   "outputs": [
    {
     "name": "stdout",
     "output_type": "stream",
     "text": [
      "[('city72', (100, 18523)), ('city38', (40, 590)), ('city68', (47, 985)), ('city45', (48, 2509)), ('city95', (46, 2433))]\n"
     ]
    }
   ],
   "source": [
    "data = MODE(r\"C:\\Users\\taylankabbani2019\\Downloads\\Income\\*\")\n",
    "\n",
    "print(data.income_mode().take(5))\n",
    "\n",
    "# data.save_file('City_income_mode.txt')"
   ]
  }
 ],
 "metadata": {
  "kernelspec": {
   "display_name": "Python 3",
   "language": "python",
   "name": "python3"
  },
  "language_info": {
   "codemirror_mode": {
    "name": "ipython",
    "version": 3
   },
   "file_extension": ".py",
   "mimetype": "text/x-python",
   "name": "python",
   "nbconvert_exporter": "python",
   "pygments_lexer": "ipython3",
   "version": "3.7.4"
  }
 },
 "nbformat": 4,
 "nbformat_minor": 2
}
