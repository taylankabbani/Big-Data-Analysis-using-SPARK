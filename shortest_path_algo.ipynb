{
 "cells": [
  {
   "cell_type": "code",
   "execution_count": null,
   "metadata": {},
   "outputs": [],
   "source": [
    "import findspark\n",
    "findspark.init()\n",
    "findspark.find()\n",
    "import pyspark\n",
    "findspark.find()\n",
    "from pyspark import SparkContext, SparkConf\n",
    "from pyspark.sql import SparkSession\n",
    "conf = pyspark.SparkConf().setAppName('appName').setMaster('local')\n",
    "sc = pyspark.SparkContext(conf=conf)\n",
    "spark = SparkSession(sc)"
   ]
  },
  {
   "cell_type": "code",
   "execution_count": null,
   "metadata": {},
   "outputs": [],
   "source": [
    "class SPT():\n",
    "    def __init__(self, source_node):\n",
    "        # Importing all files in folder and create key/value pairs,(source_node,[(node1,dist),(node2,dist),...])\n",
    "        # and persist it to reduce shuffling through network\n",
    "        self.graph = sc.wholeTextFiles(r\"C:\\Users\\taylankabbani2019\\Downloads\\directedgraph\\*\") \\\n",
    "                        .flatMap(lambda x: x[1].split(' \\n')).map(lambda x: (x.split(' ')[0], x.split(' ')[1:])) \\\n",
    "                        .mapValues(lambda x: [(x[i], x[i+1]) for i in range(0, len(x), 2)]).persist()\n",
    "        # Define source node\n",
    "        self.src = source_node\n",
    "        # Create distance RDD, initially 0 for the source and inf to other nodes\n",
    "        # Also persist it.\n",
    "        self.dist = self.graph.map(lambda x: (x[0], float('inf')) if x[0] != source_node else (x[0], 0))\n",
    "        \n",
    "    def shortest_path(self):\n",
    "        #use accumulator to check the termination condition\n",
    "        acc = sc.accumulator(0)\n",
    "        while True:\n",
    "            # Finding the shortest distance between each node and the source:\n",
    "            update_dist = self.graph.join(self.dist).flatMap(lambda x: [(x[1][0][i][0] , int(x[1][0][i][1]) + x[1][1]) \\\n",
    "                                                                        for i in range(len(x[1][0]))] \\\n",
    "                                                             if x[1][1] != float('inf') else []) \\\n",
    "                                                    .reduceByKey(lambda x,y: min(x,y))\n",
    "            \n",
    "            # Update the distance if it's shorter than the one found in the previous iteration:\n",
    "            self.dist = self.dist.leftOuterJoin(update_dist).mapValues(lambda x: x[0] if x[1] == None else min(x[0],x[1]))\n",
    "            \n",
    "            # Checking if there are nodes we did not visit yet\n",
    "            self.dist.foreach(lambda node: acc.add(1) if node[1] == float('inf') else None)\n",
    "            \n",
    "            # If We visited all nodes terminate\n",
    "            if acc.value == 0:\n",
    "                break\n",
    "            else:\n",
    "                acc.value = 0\n",
    "        return self.dist\n",
    "    def col(self):\n",
    "        print(self.dist.take(5))\n",
    "        \n",
    "t = SPT('node5089')\n",
    "t.shortest_path()"
   ]
  }
 ],
 "metadata": {
  "kernelspec": {
   "display_name": "Python 3",
   "language": "python",
   "name": "python3"
  },
  "language_info": {
   "codemirror_mode": {
    "name": "ipython",
    "version": 3
   },
   "file_extension": ".py",
   "mimetype": "text/x-python",
   "name": "python",
   "nbconvert_exporter": "python",
   "pygments_lexer": "ipython3",
   "version": "3.7.4"
  }
 },
 "nbformat": 4,
 "nbformat_minor": 2
}
